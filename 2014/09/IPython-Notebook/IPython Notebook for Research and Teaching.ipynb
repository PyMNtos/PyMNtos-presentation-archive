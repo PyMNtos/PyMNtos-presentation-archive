{
 "metadata": {
  "name": "",
  "signature": "sha256:a9e7f630eaaf3c2ac94a00e24c8ee01d869a2149e15752cda46b758a638ba0cc"
 },
 "nbformat": 3,
 "nbformat_minor": 0,
 "worksheets": [
  {
   "cells": [
    {
     "cell_type": "heading",
     "level": 1,
     "metadata": {
      "slideshow": {
       "slide_type": "slide"
      }
     },
     "source": [
      "IPython Notebook: Features for Research and Teaching"
     ]
    },
    {
     "cell_type": "markdown",
     "metadata": {
      "slideshow": {
       "slide_type": "-"
      }
     },
     "source": [
      "Hamid Mokhtarzadeh  \n",
      "PyMNtos - September 11, 2014\n",
      "\n",
      "\n",
      "   Based on SciPy 2014 tutorial: [IPython Display System and Interactive Widgets](https://github.com/ipython/ipython-in-depth)    \n",
      "   By Brian Granger and Jonathan Frederic\n"
     ]
    },
    {
     "cell_type": "heading",
     "level": 2,
     "metadata": {
      "slideshow": {
       "slide_type": "-"
      }
     },
     "source": [
      "Agenda"
     ]
    },
    {
     "cell_type": "markdown",
     "metadata": {
      "slideshow": {
       "slide_type": "-"
      }
     },
     "source": [
      "1. What is IPython Notebook?\n",
      "2. Rich Output\n",
      "3. Interactive Widgets"
     ]
    },
    {
     "cell_type": "heading",
     "level": 2,
     "metadata": {
      "slideshow": {
       "slide_type": "slide"
      }
     },
     "source": [
      "1. What is IPython Notebook?"
     ]
    },
    {
     "cell_type": "heading",
     "level": 3,
     "metadata": {},
     "source": [
      "Three components"
     ]
    },
    {
     "cell_type": "markdown",
     "metadata": {
      "slideshow": {
       "slide_type": "-"
      }
     },
     "source": [
      "1. Notebook web application\n",
      "2. Kernels\n",
      "3. Notebook documents (extension: `.ipynb`)"
     ]
    },
    {
     "cell_type": "markdown",
     "metadata": {
      "slideshow": {
       "slide_type": "notes"
      }
     },
     "source": [
      "- Internally, notebook documents are JSON data.\n",
      "    * Text data: version control friendly (kind of)\n",
      "- [nbviewer:](http://nbviewer.ipython.org) loads notebook document from public URL and renders as static webpage.  Enables sharing notebook with others"
     ]
    },
    {
     "cell_type": "heading",
     "level": 3,
     "metadata": {},
     "source": [
      "An interactive computing environment"
     ]
    },
    {
     "cell_type": "markdown",
     "metadata": {
      "slideshow": {
       "slide_type": "-"
      }
     },
     "source": [
      "- Live code\n",
      "- Plots\n",
      "- Narrative text and math\n",
      "- Rich output: images, video\n",
      "- Interactive widgets (*new in 2.x*)\n",
      "\n",
      "Self-contained record of computations.  **Can be exported!**"
     ]
    },
    {
     "cell_type": "heading",
     "level": 3,
     "metadata": {
      "slideshow": {
       "slide_type": "slide"
      }
     },
     "source": [
      "Modal Editor"
     ]
    },
    {
     "cell_type": "markdown",
     "metadata": {},
     "source": [
      "IPython notebook has **modal user interface** *(since version 2.0)*\n",
      "\n",
      "* Edit Mode\n",
      "* Command Mode"
     ]
    },
    {
     "cell_type": "heading",
     "level": 4,
     "metadata": {
      "slideshow": {
       "slide_type": "subslide"
      }
     },
     "source": [
      "Edit Mode"
     ]
    },
    {
     "cell_type": "markdown",
     "metadata": {},
     "source": [
      "Indicated by a green cell border and a prompt showing in the editor area:\n",
      "\n",
      "<img src=\"images/edit_mode.png\">\n",
      "\n",
      "You can type into the cell, like a normal text editor."
     ]
    },
    {
     "cell_type": "markdown",
     "metadata": {},
     "source": [
      "<div class=\"alert alert-success\">\n",
      "Enter edit mode by pressing `Enter` or using the mouse to click on a cell's editor area.\n",
      "</div>"
     ]
    },
    {
     "cell_type": "heading",
     "level": 4,
     "metadata": {
      "slideshow": {
       "slide_type": "subslide"
      }
     },
     "source": [
      "Command Mode"
     ]
    },
    {
     "cell_type": "markdown",
     "metadata": {},
     "source": [
      "Indicated by a grey cell border:\n",
      "\n",
      "<img src=\"images/command_mode.png\">\n",
      "\n",
      "- You are able to edit the notebook as a whole\n",
      "- Keyboard is mapped to a set of shortcuts that let you perform notebook and cell actions efficiently.\n",
      "\n",
      "**Example:** press `c`, you will copy the current cell - no modifier is needed."
     ]
    },
    {
     "cell_type": "markdown",
     "metadata": {},
     "source": [
      "<div class=\"alert alert-error\">\n",
      "Don't try to type into a cell in command mode; unexpected things will happen!\n",
      "</div>"
     ]
    },
    {
     "cell_type": "markdown",
     "metadata": {},
     "source": [
      "<div class=\"alert alert-success\">\n",
      "Enter command mode by pressing `Esc` or using the mouse to click *outside* a cell's editor area.\n",
      "</div>"
     ]
    },
    {
     "cell_type": "heading",
     "level": 2,
     "metadata": {
      "slideshow": {
       "slide_type": "slide"
      }
     },
     "source": [
      "2. Rich Output"
     ]
    },
    {
     "cell_type": "markdown",
     "metadata": {},
     "source": [
      "**Python:** declare object textual representation using `__repr__` method.\n",
      "\n",
      "**IPython:** expands on this by allowing other *rich* representations:\n",
      "- Images (jpg, png, svg)\n",
      "- Latex\n",
      "- HTML\n",
      "- YouTube Videos"
     ]
    },
    {
     "cell_type": "heading",
     "level": 3,
     "metadata": {
      "slideshow": {
       "slide_type": "subslide"
      }
     },
     "source": [
      "Images"
     ]
    },
    {
     "cell_type": "code",
     "collapsed": true,
     "input": [
      "from IPython.display import Image\n",
      "i = Image(filename='images/duck.jpg')\n",
      "i"
     ],
     "language": "python",
     "metadata": {},
     "outputs": [
      {
       "jpeg": "[encoded data removed]",
       "metadata": {},
       "output_type": "pyout",
       "prompt_number": 1,
       "text": [
        "<IPython.core.display.Image at 0x7fdab5fc4790>"
       ]
      }
     ],
     "prompt_number": 1
    },
    {
     "cell_type": "heading",
     "level": 3,
     "metadata": {
      "slideshow": {
       "slide_type": "subslide"
      }
     },
     "source": [
      "Latex"
     ]
    },
    {
     "cell_type": "markdown",
     "metadata": {},
     "source": [
      "**Math:** raw Latex string  \n",
      "**Latex:** More delimiters, but added flexibility"
     ]
    },
    {
     "cell_type": "markdown",
     "metadata": {},
     "source": [
      "$\\alpha$"
     ]
    },
    {
     "cell_type": "code",
     "collapsed": false,
     "input": [
      "from IPython.display import Math\n",
      "Math(r'\\dot{\\bf x} = A {\\bf x} + B {\\bf u}')"
     ],
     "language": "python",
     "metadata": {},
     "outputs": [
      {
       "latex": [
        "$$\\dot{\\bf x} = A {\\bf x} + B {\\bf u}$$"
       ],
       "metadata": {},
       "output_type": "pyout",
       "prompt_number": 2,
       "text": [
        "<IPython.core.display.Math at 0x7fdab5fc4ad0>"
       ]
      }
     ],
     "prompt_number": 2
    },
    {
     "cell_type": "code",
     "collapsed": false,
     "input": [
      "from IPython.display import Latex\n",
      "Latex(r\"\"\"\n",
      "\\begin{eqnarray}\n",
      "\\dot{x} &=& f(x, u) \\\\\n",
      "&\\approx& f(x_0, u_0) + \\frac{\\partial f}{\\partial x} (x - x_0) + \\frac{\\partial f}{\\partial u} (u - u_0)\n",
      "\\end{eqnarray}\n",
      "\"\"\")"
     ],
     "language": "python",
     "metadata": {},
     "outputs": [
      {
       "latex": [
        "\n",
        "\\begin{eqnarray}\n",
        "\\dot{x} &=& f(x, u) \\\\\n",
        "&\\approx& f(x_0, u_0) + \\frac{\\partial f}{\\partial x} (x - x_0) + \\frac{\\partial f}{\\partial u} (u - u_0)\n",
        "\\end{eqnarray}\n"
       ],
       "metadata": {},
       "output_type": "pyout",
       "prompt_number": 3,
       "text": [
        "<IPython.core.display.Latex at 0x7fdab5fc4450>"
       ]
      }
     ],
     "prompt_number": 3
    },
    {
     "cell_type": "heading",
     "level": 3,
     "metadata": {
      "slideshow": {
       "slide_type": "subslide"
      }
     },
     "source": [
      "HTML"
     ]
    },
    {
     "cell_type": "markdown",
     "metadata": {},
     "source": [
      "HTML Video from Flickr page of UMN UAV Research Group"
     ]
    },
    {
     "cell_type": "code",
     "collapsed": false,
     "input": [
      "from IPython.display import HTML\n",
      "HTML(r'<object type=\"application/x-shockwave-flash\" width=\"601\" height=\"338\" data=\"https://www.flickr.com/apps/video/stewart.swf\" classid=\"clsid:D27CDB6E-AE6D-11cf-96B8-444553540000\"><param name=\"flashvars\" value=\"intl_lang=en-US&photo_secret=a28004b8da&flickr_show_info_box=true&photo_id=14687915465&hd_default=false\"></param><param name=\"movie\" value=\"https://www.flickr.com/apps/video/stewart.swf\"></param><param name=\"bgcolor\" value=\"#000000\"></param><param name=\"allowFullScreen\" value=\"true\"></param><embed type=\"application/x-shockwave-flash\" src=\"https://www.flickr.com/apps/video/stewart.swf\" bgcolor=\"#000000\" allowfullscreen=\"true\" flashvars=\"intl_lang=en-US&photo_secret=a28004b8da&flickr_show_info_box=true&photo_id=14687915465&hd_default=false\" width=\"601\" height=\"338\"></embed></object>')"
     ],
     "language": "python",
     "metadata": {},
     "outputs": [
      {
       "html": [
        "<object type=\"application/x-shockwave-flash\" width=\"601\" height=\"338\" data=\"https://www.flickr.com/apps/video/stewart.swf\" classid=\"clsid:D27CDB6E-AE6D-11cf-96B8-444553540000\"><param name=\"flashvars\" value=\"intl_lang=en-US&photo_secret=a28004b8da&flickr_show_info_box=true&photo_id=14687915465&hd_default=false\"></param><param name=\"movie\" value=\"https://www.flickr.com/apps/video/stewart.swf\"></param><param name=\"bgcolor\" value=\"#000000\"></param><param name=\"allowFullScreen\" value=\"true\"></param><embed type=\"application/x-shockwave-flash\" src=\"https://www.flickr.com/apps/video/stewart.swf\" bgcolor=\"#000000\" allowfullscreen=\"true\" flashvars=\"intl_lang=en-US&photo_secret=a28004b8da&flickr_show_info_box=true&photo_id=14687915465&hd_default=false\" width=\"601\" height=\"338\"></embed></object>"
       ],
       "metadata": {},
       "output_type": "pyout",
       "prompt_number": 4,
       "text": [
        "<IPython.core.display.HTML at 0x7fdab5fc4290>"
       ]
      }
     ],
     "prompt_number": 4
    },
    {
     "cell_type": "heading",
     "level": 3,
     "metadata": {
      "slideshow": {
       "slide_type": "subslide"
      }
     },
     "source": [
      "YouTube Video"
     ]
    },
    {
     "cell_type": "code",
     "collapsed": true,
     "input": [
      "from IPython.display import YouTubeVideo\n",
      "YouTubeVideo('h0O7T1d7Rws')"
     ],
     "language": "python",
     "metadata": {},
     "outputs": [
      {
       "html": [
        "\n",
        "        <iframe\n",
        "            width=\"400\"\n",
        "            height=300\"\n",
        "            src=\"https://www.youtube.com/embed/h0O7T1d7Rws\"\n",
        "            frameborder=\"0\"\n",
        "            allowfullscreen\n",
        "        ></iframe>\n",
        "        "
       ],
       "metadata": {},
       "output_type": "pyout",
       "prompt_number": 5,
       "text": [
        "<IPython.lib.display.YouTubeVideo at 0x7fdab5fc4bd0>"
       ]
      }
     ],
     "prompt_number": 5
    },
    {
     "cell_type": "heading",
     "level": 2,
     "metadata": {
      "slideshow": {
       "slide_type": "slide"
      }
     },
     "source": [
      "3. Interactive Widgets"
     ]
    },
    {
     "cell_type": "markdown",
     "metadata": {},
     "source": [
      "`IPython.html.widge.interact` automatically creates UI for **exploring data interactively**."
     ]
    },
    {
     "cell_type": "code",
     "collapsed": true,
     "input": [
      "from IPython.html.widgets import interact\n",
      "\n",
      "def f(x):\n",
      "    print(x)\n",
      "    \n",
      "interact(f, x=10.);"
     ],
     "language": "python",
     "metadata": {
      "slideshow": {
       "slide_type": "fragment"
      }
     },
     "outputs": [
      {
       "output_type": "stream",
       "stream": "stdout",
       "text": [
        "10.0\n"
       ]
      }
     ],
     "prompt_number": 6
    },
    {
     "cell_type": "code",
     "collapsed": false,
     "input": [
      "interact(f, x=(0, 20, 5)); # (min, max, step);"
     ],
     "language": "python",
     "metadata": {
      "slideshow": {
       "slide_type": "fragment"
      }
     },
     "outputs": [
      {
       "output_type": "stream",
       "stream": "stdout",
       "text": [
        "10\n"
       ]
      }
     ],
     "prompt_number": 7
    },
    {
     "cell_type": "code",
     "collapsed": false,
     "input": [
      "interact(f, x=True);"
     ],
     "language": "python",
     "metadata": {
      "slideshow": {
       "slide_type": "fragment"
      }
     },
     "outputs": [
      {
       "output_type": "stream",
       "stream": "stdout",
       "text": [
        "True\n"
       ]
      }
     ],
     "prompt_number": 8
    },
    {
     "cell_type": "code",
     "collapsed": false,
     "input": [
      "interact(f, x='Hello World!');"
     ],
     "language": "python",
     "metadata": {
      "slideshow": {
       "slide_type": "fragment"
      }
     },
     "outputs": [
      {
       "output_type": "stream",
       "stream": "stdout",
       "text": [
        "Hello World!\n"
       ]
      }
     ],
     "prompt_number": 9
    },
    {
     "cell_type": "heading",
     "level": 3,
     "metadata": {
      "slideshow": {
       "slide_type": "subslide"
      }
     },
     "source": [
      "An Interactive Plot"
     ]
    },
    {
     "cell_type": "code",
     "collapsed": true,
     "input": [
      "%matplotlib inline\n",
      "from numpy import arange, cos, exp, pi\n",
      "from matplotlib import pyplot as plt\n",
      "\n",
      "def draw_wave(amp, freq, phase, title_str):\n",
      "    t = arange(0, 3*pi, 0.05)\n",
      "    y = amp * cos(2*pi*freq*t + phase)\n",
      "    plt.figure()\n",
      "    plt.title(title_str)\n",
      "    plt.plot(t, y, lw=2)\n",
      "\n",
      "\n",
      "interact(draw_wave, amp=1, freq=1., phase=0, title_str='A Wave Plot');"
     ],
     "language": "python",
     "metadata": {},
     "outputs": [
      {
       "metadata": {},
       "output_type": "display_data",
       "png": "[encoded data removed]",
       "text": [
        "<matplotlib.figure.Figure at 0x7fda9f061810>"
       ]
      }
     ],
     "prompt_number": 10
    },
    {
     "cell_type": "heading",
     "level": 4,
     "metadata": {
      "slideshow": {
       "slide_type": "subslide"
      }
     },
     "source": [
      "Let's fix some arguments"
     ]
    },
    {
     "cell_type": "code",
     "collapsed": false,
     "input": [
      "from IPython.html.widgets import fixed"
     ],
     "language": "python",
     "metadata": {},
     "outputs": [],
     "prompt_number": 11
    },
    {
     "cell_type": "code",
     "collapsed": true,
     "input": [
      "interact(draw_wave, freq=(0, 3, .5), amp=fixed(1), phase=fixed(0), title_str=fixed('A Wave Plot'));"
     ],
     "language": "python",
     "metadata": {
      "slideshow": {
       "slide_type": "fragment"
      }
     },
     "outputs": [
      {
       "metadata": {},
       "output_type": "display_data",
       "png": "[encoded data removed]",
       "text": [
        "<matplotlib.figure.Figure at 0x7fda9efe0350>"
       ]
      }
     ],
     "prompt_number": 12
    },
    {
     "cell_type": "heading",
     "level": 3,
     "metadata": {
      "slideshow": {
       "slide_type": "slide"
      }
     },
     "source": [
      "Widgets"
     ]
    },
    {
     "cell_type": "markdown",
     "metadata": {},
     "source": [
      "Creating our own `widgets` will give more flexibility\n",
      "\n",
      "How `interact` proceses its keyword arguments:\n",
      "\n",
      "1. If the keyword argument is `Widget` instance with a `value` attribute, that widget is used.\n",
      "2. Otherwise, the value is treated as a *widget abbreviation* that is converted to a widget before it is used.\n",
      "\n",
      "Overview of different widget abbreviations:\n",
      "\n",
      "<table class=\"table table-condensed table-bordered\">\n",
      "  <tr><td><strong>Keyword argument</strong></td><td><strong>Widget</strong></td></tr>  \n",
      "  <tr><td>`True` or `False`</td><td>CheckboxWiget</td></tr>  \n",
      "  <tr><td>`'Hi there'`</td><td>TextareaWidget</td></tr>\n",
      "  <tr><td>`value` or `(min,max)` or `(min,max,step)` if integers are passed</td><td>IntSliderWidget</td></tr>\n",
      "  <tr><td>`value` or `(min,max)` or `(min,max,step)` if floats are passed</td><td>FloatSliderWidget</td></tr>\n",
      "  <tr><td>`('orange','apple')` or `{'one':1,'two':2}`</td><td>DropdownWidget</td></tr>\n",
      "</table>"
     ]
    },
    {
     "cell_type": "code",
     "collapsed": true,
     "input": [
      "from IPython.html.widgets import IntSliderWidget\n",
      "\n",
      "interact(f, x=IntSliderWidget(min=10, max=100, step=10, value=20));"
     ],
     "language": "python",
     "metadata": {
      "slideshow": {
       "slide_type": "subslide"
      }
     },
     "outputs": [
      {
       "output_type": "stream",
       "stream": "stdout",
       "text": [
        "20\n"
       ]
      }
     ],
     "prompt_number": 13
    },
    {
     "cell_type": "heading",
     "level": 3,
     "metadata": {},
     "source": [
      "More Widgets"
     ]
    },
    {
     "cell_type": "markdown",
     "metadata": {
      "slideshow": {
       "slide_type": "slide"
      }
     },
     "source": [
      "You can use widgets to build **interactive GUIs** for your notebooks."
     ]
    },
    {
     "cell_type": "code",
     "collapsed": false,
     "input": [
      "from IPython.display import display\n",
      "from IPython.html.widgets import IntSliderWidget\n",
      "\n",
      "w = IntSliderWidget()\n",
      "display(w)"
     ],
     "language": "python",
     "metadata": {},
     "outputs": [],
     "prompt_number": 14
    },
    {
     "cell_type": "markdown",
     "metadata": {},
     "source": [
      "Query the value of the widget using the `value` property."
     ]
    },
    {
     "cell_type": "code",
     "collapsed": false,
     "input": [
      "print(w.value)\n"
     ],
     "language": "python",
     "metadata": {},
     "outputs": [
      {
       "output_type": "stream",
       "stream": "stdout",
       "text": [
        "0\n"
       ]
      }
     ],
     "prompt_number": 15
    },
    {
     "cell_type": "markdown",
     "metadata": {},
     "source": [
      "List of synchronized stateful properties is stored in `keys`."
     ]
    },
    {
     "cell_type": "code",
     "collapsed": false,
     "input": [
      "w.keys"
     ],
     "language": "python",
     "metadata": {},
     "outputs": [
      {
       "metadata": {},
       "output_type": "pyout",
       "prompt_number": 16,
       "text": [
        "['_view_name',\n",
        " 'orientation',\n",
        " 'msg_throttle',\n",
        " 'min',\n",
        " 'max',\n",
        " '_css',\n",
        " 'value',\n",
        " 'readout',\n",
        " 'disabled',\n",
        " 'visible',\n",
        " 'step',\n",
        " 'description']"
       ]
      }
     ],
     "prompt_number": 16
    },
    {
     "cell_type": "code",
     "collapsed": false,
     "input": [
      "w.description = 'Parameter A'"
     ],
     "language": "python",
     "metadata": {},
     "outputs": [],
     "prompt_number": 17
    },
    {
     "cell_type": "code",
     "collapsed": false,
     "input": [
      "display(w)"
     ],
     "language": "python",
     "metadata": {},
     "outputs": [],
     "prompt_number": 18
    },
    {
     "cell_type": "heading",
     "level": 3,
     "metadata": {
      "slideshow": {
       "slide_type": "slide"
      }
     },
     "source": [
      "Linking Similar Widgets"
     ]
    },
    {
     "cell_type": "code",
     "collapsed": false,
     "input": [
      "from IPython.utils.traitlets import link\n",
      "from IPython.html.widgets import *\n",
      "\n",
      "a = FloatTextWidget()\n",
      "b = FloatSliderWidget()\n",
      "c = FloatProgressWidget()\n",
      "\n",
      "display(a, b, c)"
     ],
     "language": "python",
     "metadata": {},
     "outputs": [],
     "prompt_number": 19
    },
    {
     "cell_type": "code",
     "collapsed": false,
     "input": [
      "c.value = 15"
     ],
     "language": "python",
     "metadata": {},
     "outputs": [],
     "prompt_number": 20
    },
    {
     "cell_type": "code",
     "collapsed": false,
     "input": [
      "mylink = link((a, 'value'), (b, 'value'), (c, 'value'))"
     ],
     "language": "python",
     "metadata": {},
     "outputs": [],
     "prompt_number": 21
    },
    {
     "cell_type": "markdown",
     "metadata": {},
     "source": [
      "Unlinking is simple too"
     ]
    },
    {
     "cell_type": "code",
     "collapsed": false,
     "input": [
      "mylink.unlink()"
     ],
     "language": "python",
     "metadata": {},
     "outputs": [],
     "prompt_number": 22
    },
    {
     "cell_type": "heading",
     "level": 2,
     "metadata": {
      "slideshow": {
       "slide_type": "slide"
      }
     },
     "source": [
      "Learn More!"
     ]
    },
    {
     "cell_type": "markdown",
     "metadata": {},
     "source": [
      "**Recorded Tutorial**: Fundamentals of the IPython Display Architecture+Interactive Widgets"
     ]
    },
    {
     "cell_type": "code",
     "collapsed": false,
     "input": [
      "YouTubeVideo('aIXED26Wppg')"
     ],
     "language": "python",
     "metadata": {},
     "outputs": [
      {
       "html": [
        "\n",
        "        <iframe\n",
        "            width=\"400\"\n",
        "            height=300\"\n",
        "            src=\"https://www.youtube.com/embed/aIXED26Wppg\"\n",
        "            frameborder=\"0\"\n",
        "            allowfullscreen\n",
        "        ></iframe>\n",
        "        "
       ],
       "metadata": {},
       "output_type": "pyout",
       "prompt_number": 23,
       "text": [
        "<IPython.lib.display.YouTubeVideo at 0x7fda9f0329d0>"
       ]
      }
     ],
     "prompt_number": 23
    }
   ],
   "metadata": {}
  }
 ]
}