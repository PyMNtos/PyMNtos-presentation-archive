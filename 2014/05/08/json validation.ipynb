{
 "metadata": {
  "name": ""
 },
 "nbformat": 3,
 "nbformat_minor": 0,
 "worksheets": [
  {
   "cells": [
    {
     "cell_type": "markdown",
     "metadata": {},
     "source": [
      "# What do you do?\n",
      "I work on a project where we collect information security incidents from public sources like newspapers, court filings, and company disclosures and we describe the inicdent using a framework called VERIS. Vocabulary for Event Recording and Incident Sharing is an open-source project to standardize the way we describe high-level security incidents.\n",
      "\n",
      " * Stores data in json format\n",
      " * Describes the actor, action, asset, and attribute of each incident\n",
      " * Timeline, discovery, impact\n",
      " * https://gitub.com/vz-risk/veris\n",
      "\n",
      "Related to VERIS is the VERIS Community Database which takes those incidents and releases the raw data to the public under a creative commons license for anyone to study and research.\n",
      "\n",
      " * Data is available on github\n",
      " * Currently has over 3000 security incidents\n",
      " * Uses a variety of forms and python magic to turn input into json files\n",
      " * https://github.com/vz-risk/VCDB"
     ]
    },
    {
     "cell_type": "markdown",
     "metadata": {},
     "source": [
      "# So what's the problem?\n",
      "In order to do analytics on the data, we need the data to be as clean as possible. So we want to validate everything that is in the json object against a standard. \n",
      "\n",
      "Sometimes when there is an error in an object it is really hard to figure out where.\n",
      "\n",
      "Also, we have deeply nested objects and we were ending up with deeply nested code.\n",
      "\n",
      "## The original validation script\n",
      "checkValidity version 1 was 377 lines long. We wrote functions to compare values in an array to a list of accepted values. We wrote functions to compare values in a string to accepted values. The script was also very brittle. You couldn't specify the location of your json files unless you edited the script. Schema changes required us to rewrite large sections of this code. We were constantly finding errors where our validation script failed to catch an error.\n",
      "\n",
      "```\n",
      "    def compareFromTo(fromArray, toArray):\n",
      "        retString = []\n",
      "        if isinstance(fromArray, basestring):\n",
      "            if fromArray not in toArray:\n",
      "                retString.append(fromArray)\n",
      "        else:\n",
      "            if len(fromArray) == 0:\n",
      "                retString.append('<empty array>')\n",
      "            for item in fromArray:\n",
      "                if item not in toArray:\n",
      "                    retString.append(item)\n",
      "        return retString\n",
      "    \n",
      "    # Later in the script\n",
      "    if jdata.has_key('attribute'):\n",
      "                if jdata['attribute'].has_key('confidentiality'):\n",
      "                    if jdata['attribute']['confidentiality'].has_key('data'):\n",
      "                        for index, datatype in enumerate(jdata['attribute']['confidentiality']['data']):\n",
      "                            errList['attribute.confidentiality.data.' + str(index)] = compareFromTo(datatype['variety'], edata['attribute']['confidentiality']['data']['variety'])\n",
      "```\n",
      "Ugh look at that block near the end. Code nested four layers deep and running off the end of the page. Ick!"
     ]
    },
    {
     "cell_type": "markdown",
     "metadata": {},
     "source": [
      "# How our schema used to look\n",
      "Originally the schema looked like this. We don't use these particular fields, but this will give you an idea of how the schema was documented."
     ]
    },
    {
     "cell_type": "code",
     "collapsed": false,
     "input": [
      "import json\n",
      "schema = {}\n",
      "schema['$schema'] = 'http://json-schema.org/draft-03/schema#'\n",
      "schema['properties'] = {}\n",
      "schema['properties']['firstname'] = {'type':'string'}\n",
      "schema['properties']['lastname'] = {'type':'string'}\n",
      "schema['properties']['age'] = {'type':'integer'}\n",
      "schema['properties']['zipcode'] = {'type':'string'}\n",
      "print json.dumps(schema,indent=2,sort_keys=True)\n",
      "\n",
      "        "
     ],
     "language": "python",
     "metadata": {},
     "outputs": [
      {
       "output_type": "stream",
       "stream": "stdout",
       "text": [
        "{\n",
        "  \"$schema\": \"http://json-schema.org/draft-03/schema#\", \n",
        "  \"properties\": {\n",
        "    \"age\": {\n",
        "      \"type\": \"integer\"\n",
        "    }, \n",
        "    \"firstname\": {\n",
        "      \"type\": \"string\"\n",
        "    }, \n",
        "    \"lastname\": {\n",
        "      \"type\": \"string\"\n",
        "    }, \n",
        "    \"zipcode\": {\n",
        "      \"type\": \"string\"\n",
        "    }\n",
        "  }\n",
        "}\n"
       ]
      }
     ],
     "prompt_number": 55
    },
    {
     "cell_type": "markdown",
     "metadata": {},
     "source": [
      "So we were able to validate the simple stuff, like making sure that required fields were there and that the fields were of the right type. Here are a couple examples of validating a record using the schema that we just created."
     ]
    },
    {
     "cell_type": "code",
     "collapsed": false,
     "input": [
      "from jsonschema import validate, ValidationError\n",
      "record = {'firstname':'Kevin','lastname':'Thompson','age':29,'zipcode':'56003'}\n",
      "try:\n",
      "    validate(record,schema)\n",
      "    print \"Valid record\"\n",
      "except ValidationError as e:\n",
      "    print e.message"
     ],
     "language": "python",
     "metadata": {},
     "outputs": [
      {
       "output_type": "stream",
       "stream": "stdout",
       "text": [
        "Valid record\n"
       ]
      }
     ],
     "prompt_number": 56
    },
    {
     "cell_type": "code",
     "collapsed": false,
     "input": [
      "record = {'firstname':15,'lastname':'Thompson','age':29,'zipcode':'56003'}\n",
      "try:\n",
      "    validate(record,schema)\n",
      "    print \"Valid record\"\n",
      "except ValidationError as e:\n",
      "    offendingPath = '.'.join(str(x) for x in e.path)\n",
      "    print \"Error in %s, %s\" % (offendingPath, e.message)"
     ],
     "language": "python",
     "metadata": {},
     "outputs": [
      {
       "output_type": "stream",
       "stream": "stdout",
       "text": [
        "Error in firstname, 15 is not of type 'string'\n"
       ]
      }
     ],
     "prompt_number": 57
    },
    {
     "cell_type": "code",
     "collapsed": false,
     "input": [
      "record = {'firstname':'hip hop and you don\\'t stop','lastname':'Thompson','age':29,'zipcode':'56003'}\n",
      "try:\n",
      "    validate(record,schema)\n",
      "    print \"Valid record\"\n",
      "except ValidationError as e:\n",
      "    offendingPath = '.'.join(str(x) for x in e.path)\n",
      "    print \"Error in %s, %s\" % (offendingPath, e.message)"
     ],
     "language": "python",
     "metadata": {},
     "outputs": [
      {
       "output_type": "stream",
       "stream": "stdout",
       "text": [
        "Valid record\n"
       ]
      }
     ],
     "prompt_number": 58
    },
    {
     "cell_type": "markdown",
     "metadata": {},
     "source": [
      "**hip hop and you don't stop** is a valid first name. OK, so we can do some basic validation but it isn't perfect. And so our code was bloated in part because we had to do a lot of checking for stuff like this. Here is another fun example. Let's extend the schema a bit"
     ]
    },
    {
     "cell_type": "code",
     "collapsed": false,
     "input": [
      "schema['properties']['tags'] = {'type':'array','items':{'type':'string'},'required':True}\n",
      "record = {'firstname':'Kevin','lastname':'Thompson','age':29,'zipcode':'56003'}\n",
      "try:\n",
      "    validate(record,schema)\n",
      "    print \"Valid record\"\n",
      "except ValidationError as e:\n",
      "    offendingPath = '.'.join(str(x) for x in e.path)\n",
      "    print \"Error in %s, %s\" % (offendingPath, e.message)"
     ],
     "language": "python",
     "metadata": {},
     "outputs": [
      {
       "output_type": "stream",
       "stream": "stdout",
       "text": [
        "Error in tags, 'tags' is a required property\n"
       ]
      }
     ],
     "prompt_number": 59
    },
    {
     "cell_type": "markdown",
     "metadata": {},
     "source": [
      "That's good. The code recognizes that tags needs to be there. But ..."
     ]
    },
    {
     "cell_type": "code",
     "collapsed": false,
     "input": [
      "record = {'firstname':'Kevin','lastname':'Thompson','age':29,'zipcode':'56003', 'tags':[]}\n",
      "try:\n",
      "    validate(record,schema)\n",
      "    print \"Valid record\"\n",
      "except ValidationError as e:\n",
      "    offendingPath = '.'.join(str(x) for x in e.path)\n",
      "    print \"Error in %s, %s\" % (offendingPath, e.message)"
     ],
     "language": "python",
     "metadata": {},
     "outputs": [
      {
       "output_type": "stream",
       "stream": "stdout",
       "text": [
        "Valid record\n"
       ]
      }
     ],
     "prompt_number": 60
    },
    {
     "cell_type": "markdown",
     "metadata": {},
     "source": [
      "**Oh No** You can have an empty array and it will consider that to be OK. Also there is little validation about what kind enumerations can be contained in the tags array. Our validity checking script was littered with tons of manual checks to make sure that all the values were from a list of acceptable values and that there were no duplicate values.\n",
      "\n",
      "And if we wanted to have our work validated in a different language, like ruby or javascript we would have to write this whole thing over again in that language."
     ]
    },
    {
     "cell_type": "markdown",
     "metadata": {},
     "source": [
      "# Improving documentation to simplify code\n",
      "Recently we updated the schema to use IETF Draft 4 instead of draft 3. That means changing the $schema\n",
      "\n",
      "```\n",
      "\"$schema\": \"http://json-schema.org/draft-04/schema#\"\n",
      "```\n",
      "That also meant that instead of having a ```required``` keyword for each required property, there is just one ```required``` keyword and it contains an array of property names."
     ]
    },
    {
     "cell_type": "code",
     "collapsed": false,
     "input": [
      "schema = {}\n",
      "schema['$schema'] = 'http://json-schema.org/draft-04/schema#'\n",
      "schema['properties'] = {}\n",
      "schema['properties']['firstname'] = {'type':'string'}\n",
      "schema['properties']['lastname'] = {'type':'string'}\n",
      "schema['properties']['state'] = {'type':'string'}\n",
      "schema['properties']['age'] = {'type':'integer'}\n",
      "schema['properties']['zipcode'] = {'type':'string'}\n",
      "schema['properties']['tags'] = {'type':'array','items':{'type':'string'}}\n",
      "schema['required'] = ['tags']\n",
      "print json.dumps(schema,indent=2,sort_keys=True)"
     ],
     "language": "python",
     "metadata": {},
     "outputs": [
      {
       "output_type": "stream",
       "stream": "stdout",
       "text": [
        "{\n",
        "  \"$schema\": \"http://json-schema.org/draft-04/schema#\", \n",
        "  \"properties\": {\n",
        "    \"age\": {\n",
        "      \"type\": \"integer\"\n",
        "    }, \n",
        "    \"firstname\": {\n",
        "      \"type\": \"string\"\n",
        "    }, \n",
        "    \"lastname\": {\n",
        "      \"type\": \"string\"\n",
        "    }, \n",
        "    \"state\": {\n",
        "      \"type\": \"string\"\n",
        "    }, \n",
        "    \"tags\": {\n",
        "      \"items\": {\n",
        "        \"type\": \"string\"\n",
        "      }, \n",
        "      \"type\": \"array\"\n",
        "    }, \n",
        "    \"zipcode\": {\n",
        "      \"type\": \"string\"\n",
        "    }\n",
        "  }, \n",
        "  \"required\": [\n",
        "    \"tags\"\n",
        "  ]\n",
        "}\n"
       ]
      }
     ],
     "prompt_number": 61
    },
    {
     "cell_type": "markdown",
     "metadata": {},
     "source": [
      "But we also took this opportunity to add more descriptive documenation in the schema file about each property. Let's say we want to make sure that our first name and last name don't have any characters that are not common to names in the United States."
     ]
    },
    {
     "cell_type": "code",
     "collapsed": false,
     "input": [
      "schema['properties']['firstname']['minLength'] = 1\n",
      "schema['properties']['firstname']['pattern'] = \"^[a-zA-Z]+$\"\n",
      "schema['properties']['lastname']['minLength'] = 1\n",
      "schema['properties']['lastname']['pattern'] = \"^[a-zA-Z -]+$\""
     ],
     "language": "python",
     "metadata": {},
     "outputs": [],
     "prompt_number": 62
    },
    {
     "cell_type": "code",
     "collapsed": false,
     "input": [
      "badRecords = [{'firstname':'','tags':['what']},\n",
      "              {'firstname':'Johnny5','tags':['what']},\n",
      "              {'firstname':'Kevin','tags':[]}]\n",
      "\n",
      "for each in badRecords:\n",
      "    try:\n",
      "        validate(each, schema)\n",
      "        print \"Valid record\"\n",
      "    except ValidationError as e:\n",
      "        offendingPath = '.'.join(str(x) for x in e.path)\n",
      "        print \"Error in %s, %s\" % (offendingPath, e.message)"
     ],
     "language": "python",
     "metadata": {},
     "outputs": [
      {
       "output_type": "stream",
       "stream": "stdout",
       "text": [
        "Error in firstname, '' is too short\n",
        "Error in firstname, 'Johnny5' does not match '^[a-zA-Z]+$'\n",
        "Valid record\n"
       ]
      }
     ],
     "prompt_number": 63
    },
    {
     "cell_type": "markdown",
     "metadata": {},
     "source": [
      "We can throw some extra validation into that array too"
     ]
    },
    {
     "cell_type": "code",
     "collapsed": false,
     "input": [
      "schema['properties']['tags']['minItems'] = 1\n",
      "schema['properties']['tags']['uniqueItems'] = True"
     ],
     "language": "python",
     "metadata": {},
     "outputs": [],
     "prompt_number": 64
    },
    {
     "cell_type": "code",
     "collapsed": false,
     "input": [
      "badRecords = [{'firstname':'Kevin','tags':'what'},\n",
      "              {'firstname':'Kevin','tags':[]},\n",
      "              {'firstname':'Kevin','tags':['cool','cool']}]\n",
      "for each in badRecords:\n",
      "    try:\n",
      "        validate(each, schema)\n",
      "    except ValidationError as e:\n",
      "        offendingPath = '.'.join(str(x) for x in e.path)\n",
      "        print \"Error in %s, %s\" % (offendingPath, e.message)"
     ],
     "language": "python",
     "metadata": {},
     "outputs": [
      {
       "output_type": "stream",
       "stream": "stdout",
       "text": [
        "Error in tags, 'what' is not of type 'array'\n",
        "Error in tags, [] is too short\n",
        "Error in tags, ['cool', 'cool'] has non-unique elements\n"
       ]
      }
     ],
     "prompt_number": 65
    },
    {
     "cell_type": "markdown",
     "metadata": {},
     "source": [
      "You can even specify enumerations for arrays and strings"
     ]
    },
    {
     "cell_type": "code",
     "collapsed": false,
     "input": [
      "schema['properties']['tags']['items']['enum'] = ['cool','uncool','unknown']\n",
      "schema['properties']['state']['enum'] = ['MN','WI','ND','SD','IA']"
     ],
     "language": "python",
     "metadata": {},
     "outputs": [],
     "prompt_number": 68
    },
    {
     "cell_type": "code",
     "collapsed": false,
     "input": [
      "badRecords = [{'firstname':'Kevin','state':'CA','tags':['cool']},\n",
      "              {'firstname':'Kevin','state':'MN','tags':['ruby']}]\n",
      "for each in badRecords:\n",
      "    try:\n",
      "        validate(each, schema)\n",
      "        print \"Valid record\"\n",
      "    except ValidationError as e:\n",
      "        offendingPath = '.'.join(str(x) for x in e.path)\n",
      "        print \"Error in %s, %s\" % (offendingPath, e.message)"
     ],
     "language": "python",
     "metadata": {},
     "outputs": [
      {
       "output_type": "stream",
       "stream": "stdout",
       "text": [
        "Error in state, 'CA' is not one of ['MN', 'WI', 'ND', 'SD', 'IA']\n",
        "Error in tags.0, 'ruby' is not one of ['cool', 'uncool', 'unknown']\n"
       ]
      }
     ],
     "prompt_number": 69
    },
    {
     "cell_type": "markdown",
     "metadata": {},
     "source": [
      "So this is cool because I'm more tightly defining my data but on the python side my script isn't changing at all. If at some point in the future we decide to add another field I don't have to change my validation scripts. If someone wants to use Ruby to validate the same kind of data they don't have to write all this validation from scratch.\n",
      "\n",
      "## Pay attention to the ValidationError path\n",
      "```\n",
      "except ValidationError as e:\n",
      "    offendingPath = '.'.join(str(x) for x in e.path)\n",
      "    print \"Error in %s, %s\" % (offendingPath, e.message)\n",
      "```\n",
      "see that bit with the e.path? That's an important bit of code if you happen to have json objects that are deeply nested. Getting an error that some field has a bad value isn't helpful if you have a few dozen of that field name in a deeply nested json object. So that bit of code there will make sure that you know exactly where the error is if you have go in and do some fixing."
     ]
    },
    {
     "cell_type": "markdown",
     "metadata": {},
     "source": [
      "# Dictionary .get() to reduce deep nesting\n",
      "One other trick I picked up was using dict.get() as a way to cut out a lot of if/then nesting. Let's say I want to print the victim country every for every incident where I know the victim country and where theft of a physical asset was part of the incident. Victim.country and action.physical are both optional so I need to check if they exist otherwise my script will bomb out on the first incident that doesn't have one of those\n",
      "\n",
      "```\n",
      "if 'physical' in incident['action'].keys():\n",
      "  if 'Theft' in incident['action']['physical']['variety']:\n",
      "    if 'country' in incident['victim']:\n",
      "      print incident['country']\n",
      "    else:\n",
      "      print \"Unknown\"\n",
      "```\n",
      "I always knew that dict.get allows me to return a default value if my key is not in the dictionary. I had never thought of returning an empty dictionary or empty list as a way of simplifying this code\n",
      "\n",
      "```\n",
      "if 'Theft' in incident['action'].get('physical',{}).get('variety',[]):\n",
      "  print incident['victim'].get('country','Unknown')\n",
      "```"
     ]
    },
    {
     "cell_type": "markdown",
     "metadata": {},
     "source": [
      "# How things look today\n",
      "checkValidity.py is smaller and does more stuff. The code is 235 lines long (reduction of 142 lines/37%) and much of the remaining lines of code consist of things like arg parsing which we didn't have before. We also put the array enumerations in a different file from the schema and merge them together at run time which is actually most of the code. The code uses try/except blocks too. More features, less brittle, smaller and easier to understand.\n",
      "\n",
      "```\n",
      "    try:\n",
      "      validate(incident, schema)\n",
      "      checkMalwareIntegrity(incident)\n",
      "      checkSocialIntegrity(incident)\n",
      "      checkSQLiRepurpose(incident)\n",
      "      checkSecurityIncident(incident)\n",
      "      checkLossTheftAvailability(incident)\n",
      "    except ValidationError as e:\n",
      "      offendingPath = '.'.join(str(x) for x in e.path)\n",
      "      logging.warning(\"ERROR in %s. %s %s\" % (eachFile, offendingPath, e.message))\n",
      "```\n",
      "\n",
      "##Not all sweet and rosy: things are slower. \n",
      "The script takes longer for each record it validates. That's not a concern at all when I'm doing an import of a few hundred records, but when we run it against our whole database of 120,000 records it takes an hour and a half to complete."
     ]
    },
    {
     "cell_type": "markdown",
     "metadata": {},
     "source": [
      "# Watch out\n",
      "Here are some things you'll want to watch out for when you're doing JSON validation\n",
      "\n",
      " * Make sure you've got a $schema in your JSON schema or the validation will make assumptions\n",
      " * If you start getting told that 'required' is not an array then you've documented required fields in draft 3 but the validator is assuming draft 4."
     ]
    },
    {
     "cell_type": "markdown",
     "metadata": {},
     "source": [
      "# You gonna share this notebook?\n",
      "Look me up on Twitter, @bfist. My most recent tweet is a link to this notebook.\n",
      "\n",
      "## And then...\n",
      "Here are some links you might find helpful:\n",
      "\n",
      " * http://www.jsonschema.net/index.html# (helpful for getting started with your schema)\n",
      " * http://json-schema.org/ (detailed documentation about json schema keywords)"
     ]
    },
    {
     "cell_type": "code",
     "collapsed": false,
     "input": [],
     "language": "python",
     "metadata": {},
     "outputs": [],
     "prompt_number": 67
    }
   ],
   "metadata": {}
  }
 ]
}